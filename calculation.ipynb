{
 "cells": [
  {
   "cell_type": "code",
   "execution_count": 5,
   "metadata": {},
   "outputs": [],
   "source": [
    "def summation(a,b):\n",
    "    return a+b\n",
    "def multiplication(a,b):  \n",
    "    return a*b  \n",
    "def divide(a,b):  \n",
    "    return a/b  \n",
    "\n",
    "def media3():  \n",
    "    List1 = [\"John1\", \"David1\", \"Nick1\",    \"Martin1\"]  \n",
    "    return List1; "
   ]
  },
  {
   "cell_type": "markdown",
   "metadata": {},
   "source": [
    "# Python packages"
   ]
  },
  {
   "cell_type": "code",
   "execution_count": 6,
   "metadata": {},
   "outputs": [],
   "source": [
    "def getITNames():  \n",
    "    List = [\"John\", \"David\", \"Nick\",    \"Martin\"]  \n",
    "    return List;  "
   ]
  },
  {
   "cell_type": "code",
   "execution_count": 4,
   "metadata": {},
   "outputs": [],
   "source": [
    "def media3():  \n",
    "    List1 = [\"John1\", \"David1\", \"Nick1\",    \"Martin1\"]  \n",
    "    return List1;  "
   ]
  },
  {
   "cell_type": "code",
   "execution_count": null,
   "metadata": {},
   "outputs": [],
   "source": []
  }
 ],
 "metadata": {
  "kernelspec": {
   "display_name": "Python 3",
   "language": "python",
   "name": "python3"
  },
  "language_info": {
   "codemirror_mode": {
    "name": "ipython",
    "version": 3
   },
   "file_extension": ".py",
   "mimetype": "text/x-python",
   "name": "python",
   "nbconvert_exporter": "python",
   "pygments_lexer": "ipython3",
   "version": "3.7.3"
  }
 },
 "nbformat": 4,
 "nbformat_minor": 2
}
