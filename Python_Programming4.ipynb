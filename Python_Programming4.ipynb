{
 "cells": [
  {
   "cell_type": "markdown",
   "metadata": {},
   "source": [
    "# Python OOPs Concepts"
   ]
  },
  {
   "cell_type": "markdown",
   "metadata": {},
   "source": [
    "# Like other general purpose languages, python is also an object-oriented language since its beginning."
   ]
  },
  {
   "cell_type": "markdown",
   "metadata": {},
   "source": [
    "Major principles of object-oriented programming system are given below.\n",
    "1.Object\n",
    "2.Class\n",
    "3.Method\n",
    "4.Inheritance\n",
    "5.Polymorphism\n",
    "6.Data Abstraction\n",
    "7.Encapsulation"
   ]
  },
  {
   "cell_type": "markdown",
   "metadata": {},
   "source": [
    "# Object\n",
    "The object is an entity that has state and behavior. \n",
    "It may be any real-world object like the mouse, keyboard, chair, table, pen, etc."
   ]
  },
  {
   "cell_type": "markdown",
   "metadata": {},
   "source": [
    "# Class\n",
    "The class can be defined as a collection of objects. \n",
    "It is a logical entity that has some specific attributes and methods. For example: if you have an employee class then it should contain an attribute and method, \n",
    "i.e. an email id, name, age, salary, etc."
   ]
  },
  {
   "cell_type": "markdown",
   "metadata": {},
   "source": [
    "class ClassName:   \n",
    "        <statement-1>   \n",
    "        .   \n",
    "        .    \n",
    "        <statement-N> "
   ]
  },
  {
   "cell_type": "code",
   "execution_count": 2,
   "metadata": {},
   "outputs": [
    {
     "name": "stdout",
     "output_type": "stream",
     "text": [
      "ID: 10 \n",
      "Name: John\n"
     ]
    }
   ],
   "source": [
    "class Employee:  \n",
    "    id = 10;  \n",
    "    name = \"John\"  \n",
    "    def display (self):  \n",
    "        print(\"ID: %d \\nName: %s\"%(self.id,self.name))  \n",
    "emp = Employee()  \n",
    "emp.display()  "
   ]
  },
  {
   "cell_type": "markdown",
   "metadata": {},
   "source": [
    "# Python Constructor"
   ]
  },
  {
   "cell_type": "markdown",
   "metadata": {},
   "source": [
    "A constructor is a special type of method (function) which is used to initialize the instance members of the class.\n",
    "Constructors can be of two types.\n",
    "1.Parameterized Constructor \n",
    "2.Non-parameterized Constructor"
   ]
  },
  {
   "cell_type": "code",
   "execution_count": 3,
   "metadata": {},
   "outputs": [],
   "source": [
    "#Creating the constructor in python\n",
    "#https://www.javatpoint.com/python-constructors"
   ]
  },
  {
   "cell_type": "code",
   "execution_count": 4,
   "metadata": {},
   "outputs": [
    {
     "name": "stdout",
     "output_type": "stream",
     "text": [
      "ID: 101 \n",
      "Name: John\n",
      "ID: 102 \n",
      "Name: David\n"
     ]
    }
   ],
   "source": [
    "class Employee:  \n",
    "    def __init__(self,name,id):  \n",
    "        self.id = id;  \n",
    "        self.name = name;  \n",
    "    def display (self):  \n",
    "        print(\"ID: %d \\nName: %s\"%(self.id,self.name))  \n",
    "emp1 = Employee(\"John\",101)  \n",
    "emp2 = Employee(\"David\",102)  \n",
    "  \n",
    "#accessing display() method to print employee 1 information  \n",
    "   \n",
    "emp1.display();   \n",
    "  \n",
    "#accessing display() method to print employee 2 information  \n",
    "emp2.display();   "
   ]
  },
  {
   "cell_type": "code",
   "execution_count": 5,
   "metadata": {},
   "outputs": [
    {
     "name": "stdout",
     "output_type": "stream",
     "text": [
      "The number of students: 3\n"
     ]
    }
   ],
   "source": [
    "class Student:  \n",
    "    count = 0  \n",
    "    def __init__(self):  \n",
    "        Student.count = Student.count + 1  \n",
    "s1=Student()  \n",
    "s2=Student()  \n",
    "s3=Student()  \n",
    "print(\"The number of students:\",Student.count)  "
   ]
  },
  {
   "cell_type": "code",
   "execution_count": 6,
   "metadata": {},
   "outputs": [],
   "source": [
    "#Python Non-Parameterized Constructor Example"
   ]
  },
  {
   "cell_type": "code",
   "execution_count": 7,
   "metadata": {},
   "outputs": [
    {
     "name": "stdout",
     "output_type": "stream",
     "text": [
      "This is non parametrized constructor\n",
      "Hello John\n"
     ]
    }
   ],
   "source": [
    "class Student:    \n",
    "    # Constructor - non parameterized    \n",
    "    def __init__(self):    \n",
    "        print(\"This is non parametrized constructor\")    \n",
    "    def show(self,name):    \n",
    "        print(\"Hello\",name)    \n",
    "student = Student()    \n",
    "student.show(\"John\") "
   ]
  },
  {
   "cell_type": "code",
   "execution_count": 8,
   "metadata": {},
   "outputs": [],
   "source": [
    "#Python Parameterized Constructor Example"
   ]
  },
  {
   "cell_type": "code",
   "execution_count": 9,
   "metadata": {},
   "outputs": [
    {
     "name": "stdout",
     "output_type": "stream",
     "text": [
      "This is parametrized constructor\n",
      "Hello John\n"
     ]
    }
   ],
   "source": [
    "class Student:    \n",
    "    # Constructor - parameterized    \n",
    "    def __init__(self, name):    \n",
    "        print(\"This is parametrized constructor\")    \n",
    "        self.name = name    \n",
    "    def show(self):    \n",
    "        print(\"Hello\",self.name)    \n",
    "student = Student(\"John\")    \n",
    "student.show()  "
   ]
  },
  {
   "cell_type": "code",
   "execution_count": 10,
   "metadata": {},
   "outputs": [],
   "source": [
    "#Python In-built class functions"
   ]
  },
  {
   "cell_type": "markdown",
   "metadata": {},
   "source": [
    "# Python Inheritance"
   ]
  },
  {
   "cell_type": "markdown",
   "metadata": {},
   "source": [
    "# Inheritance is an important aspect of the object-oriented paradigm. Inheritance provides code reusability to the program because we can use an existing class to create a new class instead of creating it from scratch.\n",
    "In inheritance, the child class acquires the properties and can access all the data members and functions defined in the parent class. A child class can also provide its specific implementation to the functions of the parent class. In this section of the tutorial, we will discuss inheritance in detail.\n",
    "In python, a derived class can inherit base class by just mentioning the base in the bracket after the derived class name. Consider the following syntax to inherit a base class into the derived class."
   ]
  },
  {
   "cell_type": "markdown",
   "metadata": {},
   "source": [
    "class derived-class(base class):  \n",
    "    <class-suite>  "
   ]
  },
  {
   "cell_type": "code",
   "execution_count": 11,
   "metadata": {},
   "outputs": [
    {
     "name": "stdout",
     "output_type": "stream",
     "text": [
      "dog barking\n",
      "Animal Speaking\n"
     ]
    }
   ],
   "source": [
    "class Animal:  \n",
    "    def speak(self):  \n",
    "        print(\"Animal Speaking\")  \n",
    "#child class Dog inherits the base class Animal  \n",
    "class Dog(Animal):  \n",
    "    def bark(self):  \n",
    "        print(\"dog barking\")  \n",
    "d = Dog()  \n",
    "d.bark()  \n",
    "d.speak()  "
   ]
  },
  {
   "cell_type": "code",
   "execution_count": 12,
   "metadata": {},
   "outputs": [],
   "source": [
    "#Python Multi-Level inheritance\n",
    "#Multi-level inheritance is archived when a derived class inherits another derived class"
   ]
  },
  {
   "cell_type": "markdown",
   "metadata": {},
   "source": [
    "class class1:  \n",
    "    <class-suite>   \n",
    "class class2(class1):  \n",
    "    <class suite>  \n",
    "class class3(class2):  \n",
    "    <class suite> "
   ]
  },
  {
   "cell_type": "code",
   "execution_count": 13,
   "metadata": {},
   "outputs": [
    {
     "name": "stdout",
     "output_type": "stream",
     "text": [
      "dog barking\n",
      "Animal Speaking\n",
      "Eating bread...\n"
     ]
    }
   ],
   "source": [
    "class Animal:  \n",
    "    def speak(self):  \n",
    "        print(\"Animal Speaking\")  \n",
    "#The child class Dog inherits the base class Animal  \n",
    "class Dog(Animal):  \n",
    "    def bark(self):  \n",
    "        print(\"dog barking\")  \n",
    "#The child class Dogchild inherits another child class Dog  \n",
    "class DogChild(Dog):  \n",
    "    def eat(self):  \n",
    "        print(\"Eating bread...\")  \n",
    "d = DogChild()  \n",
    "d.bark()  \n",
    "d.speak()  \n",
    "d.eat()  "
   ]
  },
  {
   "cell_type": "code",
   "execution_count": 14,
   "metadata": {},
   "outputs": [
    {
     "name": "stdout",
     "output_type": "stream",
     "text": [
      "Barking\n"
     ]
    }
   ],
   "source": [
    "#Python Multiple inheritance\n",
    "#Method Overriding\n",
    "class Animal:  \n",
    "    def speak(self):  \n",
    "        print(\"speaking\")  \n",
    "class Dog(Animal):  \n",
    "    def speak(self):  \n",
    "        print(\"Barking\")  \n",
    "d = Dog()  \n",
    "d.speak()  "
   ]
  },
  {
   "cell_type": "code",
   "execution_count": 15,
   "metadata": {},
   "outputs": [
    {
     "name": "stdout",
     "output_type": "stream",
     "text": [
      "Bank Rate of interest: 10\n",
      "SBI Rate of interest: 7\n",
      "ICICI Rate of interest: 8\n"
     ]
    }
   ],
   "source": [
    "class Bank:  \n",
    "    def getroi(self):  \n",
    "        return 10;  \n",
    "class SBI(Bank):  \n",
    "    def getroi(self):  \n",
    "        return 7;  \n",
    "  \n",
    "class ICICI(Bank):  \n",
    "    def getroi(self):  \n",
    "        return 8;  \n",
    "b1 = Bank()  \n",
    "b2 = SBI()  \n",
    "b3 = ICICI()  \n",
    "print(\"Bank Rate of interest:\",b1.getroi());  \n",
    "print(\"SBI Rate of interest:\",b2.getroi());  \n",
    "print(\"ICICI Rate of interest:\",b3.getroi());  "
   ]
  },
  {
   "cell_type": "code",
   "execution_count": 16,
   "metadata": {},
   "outputs": [
    {
     "name": "stdout",
     "output_type": "stream",
     "text": [
      "The number of employees 2\n"
     ]
    },
    {
     "ename": "AttributeError",
     "evalue": "'Employee' object has no attribute '__count'",
     "output_type": "error",
     "traceback": [
      "\u001b[1;31m---------------------------------------------------------------------------\u001b[0m",
      "\u001b[1;31mAttributeError\u001b[0m                            Traceback (most recent call last)",
      "\u001b[1;32m<ipython-input-16-b93cac9619b9>\u001b[0m in \u001b[0;36m<module>\u001b[1;34m\u001b[0m\n\u001b[0;32m     12\u001b[0m \u001b[0memp2\u001b[0m \u001b[1;33m=\u001b[0m \u001b[0mEmployee\u001b[0m\u001b[1;33m(\u001b[0m\u001b[1;33m)\u001b[0m\u001b[1;33m\u001b[0m\u001b[1;33m\u001b[0m\u001b[0m\n\u001b[0;32m     13\u001b[0m \u001b[1;32mtry\u001b[0m\u001b[1;33m:\u001b[0m\u001b[1;33m\u001b[0m\u001b[1;33m\u001b[0m\u001b[0m\n\u001b[1;32m---> 14\u001b[1;33m     \u001b[0mprint\u001b[0m\u001b[1;33m(\u001b[0m\u001b[0memp\u001b[0m\u001b[1;33m.\u001b[0m\u001b[0m__count\u001b[0m\u001b[1;33m)\u001b[0m\u001b[1;33m\u001b[0m\u001b[1;33m\u001b[0m\u001b[0m\n\u001b[0m\u001b[0;32m     15\u001b[0m \u001b[1;32mfinally\u001b[0m\u001b[1;33m:\u001b[0m\u001b[1;33m\u001b[0m\u001b[1;33m\u001b[0m\u001b[0m\n\u001b[0;32m     16\u001b[0m     \u001b[0memp\u001b[0m\u001b[1;33m.\u001b[0m\u001b[0mdisplay\u001b[0m\u001b[1;33m(\u001b[0m\u001b[1;33m)\u001b[0m\u001b[1;33m\u001b[0m\u001b[1;33m\u001b[0m\u001b[0m\n",
      "\u001b[1;31mAttributeError\u001b[0m: 'Employee' object has no attribute '__count'"
     ]
    }
   ],
   "source": [
    "#Data abstraction in python\n",
    "#Abstraction is an important aspect of object-oriented programming. In python, we can also perform data hiding by adding the double underscore (___) \n",
    "#as a prefix to the attribute which is to be hidden\n",
    "\n",
    "class Employee:  \n",
    "    __count = 0;  \n",
    "    def __init__(self):  \n",
    "        Employee.__count = Employee.__count+1  \n",
    "    def display(self):  \n",
    "        print(\"The number of employees\",Employee.__count)  \n",
    "emp = Employee()  \n",
    "emp2 = Employee()  \n",
    "try:  \n",
    "    print(emp.__count)  \n",
    "finally:  \n",
    "    emp.display()  "
   ]
  },
  {
   "cell_type": "code",
   "execution_count": null,
   "metadata": {},
   "outputs": [],
   "source": []
  }
 ],
 "metadata": {
  "kernelspec": {
   "display_name": "Python 3",
   "language": "python",
   "name": "python3"
  },
  "language_info": {
   "codemirror_mode": {
    "name": "ipython",
    "version": 3
   },
   "file_extension": ".py",
   "mimetype": "text/x-python",
   "name": "python",
   "nbconvert_exporter": "python",
   "pygments_lexer": "ipython3",
   "version": "3.7.3"
  }
 },
 "nbformat": 4,
 "nbformat_minor": 2
}
