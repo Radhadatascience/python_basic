{
 "cells": [
  {
   "cell_type": "code",
   "execution_count": 1,
   "metadata": {},
   "outputs": [],
   "source": [
    "import pandas as pd\n",
    "import pyodbc"
   ]
  },
  {
   "cell_type": "code",
   "execution_count": 2,
   "metadata": {},
   "outputs": [
    {
     "name": "stdout",
     "output_type": "stream",
     "text": [
      "<pyodbc.Connection object at 0x0C5166B0>\n"
     ]
    }
   ],
   "source": [
    "server='(local)'\n",
    "db='students_results'\n",
    "\n",
    "#create the connection\n",
    "con=pyodbc.connect('DRIVER={SQL Server};SERVER='+ server +';DATABASE='+ db +';Trusted_Connection=yes')\n",
    "\n",
    "print(con)\n"
   ]
  },
  {
   "cell_type": "code",
   "execution_count": 3,
   "metadata": {},
   "outputs": [
    {
     "data": {
      "text/html": [
       "<div>\n",
       "<style scoped>\n",
       "    .dataframe tbody tr th:only-of-type {\n",
       "        vertical-align: middle;\n",
       "    }\n",
       "\n",
       "    .dataframe tbody tr th {\n",
       "        vertical-align: top;\n",
       "    }\n",
       "\n",
       "    .dataframe thead th {\n",
       "        text-align: right;\n",
       "    }\n",
       "</style>\n",
       "<table border=\"1\" class=\"dataframe\">\n",
       "  <thead>\n",
       "    <tr style=\"text-align: right;\">\n",
       "      <th></th>\n",
       "      <th>Name</th>\n",
       "      <th>RollNo</th>\n",
       "      <th>DOB</th>\n",
       "      <th>Telugu</th>\n",
       "      <th>Hindi</th>\n",
       "      <th>English</th>\n",
       "      <th>Maths</th>\n",
       "      <th>Science</th>\n",
       "      <th>Social</th>\n",
       "      <th>PhoneNumber</th>\n",
       "    </tr>\n",
       "  </thead>\n",
       "  <tbody>\n",
       "    <tr>\n",
       "      <th>0</th>\n",
       "      <td>RamaRaju</td>\n",
       "      <td>89920169</td>\n",
       "      <td>2008-08-01</td>\n",
       "      <td>90</td>\n",
       "      <td>69</td>\n",
       "      <td>74</td>\n",
       "      <td>59</td>\n",
       "      <td>65</td>\n",
       "      <td>75</td>\n",
       "      <td>9848951300</td>\n",
       "    </tr>\n",
       "    <tr>\n",
       "      <th>1</th>\n",
       "      <td>Ramu</td>\n",
       "      <td>89920168</td>\n",
       "      <td>2006-06-03</td>\n",
       "      <td>92</td>\n",
       "      <td>15</td>\n",
       "      <td>75</td>\n",
       "      <td>56</td>\n",
       "      <td>67</td>\n",
       "      <td>78</td>\n",
       "      <td>9848955301</td>\n",
       "    </tr>\n",
       "    <tr>\n",
       "      <th>2</th>\n",
       "      <td>Ajay</td>\n",
       "      <td>89920167</td>\n",
       "      <td>2009-06-03</td>\n",
       "      <td>90</td>\n",
       "      <td>65</td>\n",
       "      <td>76</td>\n",
       "      <td>54</td>\n",
       "      <td>30</td>\n",
       "      <td>79</td>\n",
       "      <td>9848955302</td>\n",
       "    </tr>\n",
       "    <tr>\n",
       "      <th>3</th>\n",
       "      <td>Vijay</td>\n",
       "      <td>89920165</td>\n",
       "      <td>2001-06-03</td>\n",
       "      <td>23</td>\n",
       "      <td>44</td>\n",
       "      <td>45</td>\n",
       "      <td>56</td>\n",
       "      <td>77</td>\n",
       "      <td>88</td>\n",
       "      <td>9848955303</td>\n",
       "    </tr>\n",
       "    <tr>\n",
       "      <th>4</th>\n",
       "      <td>Sitha</td>\n",
       "      <td>89920161</td>\n",
       "      <td>2004-06-03</td>\n",
       "      <td>92</td>\n",
       "      <td>14</td>\n",
       "      <td>10</td>\n",
       "      <td>56</td>\n",
       "      <td>27</td>\n",
       "      <td>78</td>\n",
       "      <td>9848955304</td>\n",
       "    </tr>\n",
       "    <tr>\n",
       "      <th>5</th>\n",
       "      <td>Ramesh</td>\n",
       "      <td>89920178</td>\n",
       "      <td>2003-06-03</td>\n",
       "      <td>42</td>\n",
       "      <td>64</td>\n",
       "      <td>74</td>\n",
       "      <td>26</td>\n",
       "      <td>67</td>\n",
       "      <td>78</td>\n",
       "      <td>9848955305</td>\n",
       "    </tr>\n",
       "    <tr>\n",
       "      <th>6</th>\n",
       "      <td>Raju1</td>\n",
       "      <td>89920169</td>\n",
       "      <td>2008-08-01</td>\n",
       "      <td>90</td>\n",
       "      <td>69</td>\n",
       "      <td>74</td>\n",
       "      <td>59</td>\n",
       "      <td>65</td>\n",
       "      <td>75</td>\n",
       "      <td>9848955555</td>\n",
       "    </tr>\n",
       "  </tbody>\n",
       "</table>\n",
       "</div>"
      ],
      "text/plain": [
       "       Name    RollNo         DOB Telugu Hindi English Maths Science Social  \\\n",
       "0  RamaRaju  89920169  2008-08-01     90    69      74    59      65     75   \n",
       "1      Ramu  89920168  2006-06-03     92    15      75    56      67     78   \n",
       "2      Ajay  89920167  2009-06-03     90    65      76    54      30     79   \n",
       "3     Vijay  89920165  2001-06-03     23    44      45    56      77     88   \n",
       "4     Sitha  89920161  2004-06-03     92    14      10    56      27     78   \n",
       "5    Ramesh  89920178  2003-06-03     42    64      74    26      67     78   \n",
       "6     Raju1  89920169  2008-08-01     90    69      74    59      65     75   \n",
       "\n",
       "  PhoneNumber  \n",
       "0  9848951300  \n",
       "1  9848955301  \n",
       "2  9848955302  \n",
       "3  9848955303  \n",
       "4  9848955304  \n",
       "5  9848955305  \n",
       "6  9848955555  "
      ]
     },
     "execution_count": 3,
     "metadata": {},
     "output_type": "execute_result"
    }
   ],
   "source": [
    "#Query of db\n",
    "sql= 'SELECT * FROM student'\n",
    "\n",
    "sql_df=pd.read_sql(sql,con)\n",
    "sql_df"
   ]
  },
  {
   "cell_type": "markdown",
   "metadata": {},
   "source": [
    "print(\"Enter a Unique Id\")    \n",
    "Id=int(input())    \n",
    "print(\"Enter first Name\")    \n",
    "firstname=input()  \n",
    "print(\"Enter last Name\")    \n",
    "LastName=input()  \n",
    "print(\"Enter Regno\")    \n",
    "RegisterNo=int(input())   \n",
    "cursor = connection.cursor()    \n",
    "SQLCommand = (\"INSERT INTO tbl_employee(id,firstName, LastName, EmployeeId) VALUES (?,?,?,?)\")    \n",
    "Values = [Id,firstname,LastName,RegisterNo]   \n",
    "#Processing Query    \n",
    "cursor.execute(SQLCommand,Values)     \n",
    "#Commiting any pending transaction to the database.    \n",
    "connection.commit()    \n",
    "#closing connection    \n",
    "print(\"Data Successfully Inserted\")   \n",
    "connection.close()    "
   ]
  },
  {
   "cell_type": "code",
   "execution_count": 9,
   "metadata": {},
   "outputs": [
    {
     "name": "stdout",
     "output_type": "stream",
     "text": [
      "[{'employee': {'firstName': 'Lokesh', 'lastName': 'Gupta', 'website': 'howtodoinjava.com'}}, {'employee': {'firstName': 'Brian', 'lastName': 'Schultz', 'website': 'example.com'}}]\n"
     ]
    }
   ],
   "source": [
    "import json\n",
    "with open('E:/employees.json') as json_file:\n",
    "    json_data = json.load(json_file)\n",
    "    print(json_data)"
   ]
  },
  {
   "cell_type": "code",
   "execution_count": 15,
   "metadata": {},
   "outputs": [
    {
     "ename": "NameError",
     "evalue": "name 'get' is not defined",
     "output_type": "error",
     "traceback": [
      "\u001b[1;31m---------------------------------------------------------------------------\u001b[0m",
      "\u001b[1;31mNameError\u001b[0m                                 Traceback (most recent call last)",
      "\u001b[1;32m<ipython-input-15-78d53e6b6122>\u001b[0m in \u001b[0;36m<module>\u001b[1;34m\u001b[0m\n\u001b[0;32m      1\u001b[0m \u001b[1;32mimport\u001b[0m \u001b[0mrequests\u001b[0m\u001b[1;33m\u001b[0m\u001b[1;33m\u001b[0m\u001b[0m\n\u001b[1;32m----> 2\u001b[1;33m \u001b[0mobj_req\u001b[0m\u001b[1;33m=\u001b[0m\u001b[0mget\u001b[0m\u001b[1;33m.\u001b[0m\u001b[0mrequests\u001b[0m\u001b[1;33m(\u001b[0m\u001b[1;34m'https://www.google.com/'\u001b[0m\u001b[1;33m)\u001b[0m\u001b[1;33m\u001b[0m\u001b[1;33m\u001b[0m\u001b[0m\n\u001b[0m\u001b[0;32m      3\u001b[0m \u001b[0mprint\u001b[0m\u001b[1;33m(\u001b[0m\u001b[0mobj_req\u001b[0m\u001b[1;33m)\u001b[0m\u001b[1;33m\u001b[0m\u001b[1;33m\u001b[0m\u001b[0m\n",
      "\u001b[1;31mNameError\u001b[0m: name 'get' is not defined"
     ]
    }
   ],
   "source": [
    "import requests\n",
    "obj_req=get.requests('https://www.google.com/')\n",
    "print(obj_req)\n"
   ]
  },
  {
   "cell_type": "code",
   "execution_count": null,
   "metadata": {},
   "outputs": [],
   "source": []
  }
 ],
 "metadata": {
  "kernelspec": {
   "display_name": "Python 3",
   "language": "python",
   "name": "python3"
  },
  "language_info": {
   "codemirror_mode": {
    "name": "ipython",
    "version": 3
   },
   "file_extension": ".py",
   "mimetype": "text/x-python",
   "name": "python",
   "nbconvert_exporter": "python",
   "pygments_lexer": "ipython3",
   "version": "3.7.3"
  }
 },
 "nbformat": 4,
 "nbformat_minor": 2
}
