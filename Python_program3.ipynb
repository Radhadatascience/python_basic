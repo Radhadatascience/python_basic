{
 "cells": [
  {
   "cell_type": "markdown",
   "metadata": {},
   "source": [
    "# Function calling"
   ]
  },
  {
   "cell_type": "code",
   "execution_count": 1,
   "metadata": {},
   "outputs": [],
   "source": [
    "#https://www.javatpoint.com/python-functions\n",
    "def hello_world():  \n",
    "    print(\"hello world\") "
   ]
  },
  {
   "cell_type": "code",
   "execution_count": 2,
   "metadata": {},
   "outputs": [
    {
     "name": "stdout",
     "output_type": "stream",
     "text": [
      "hello world\n"
     ]
    }
   ],
   "source": [
    "hello_world() "
   ]
  },
  {
   "cell_type": "code",
   "execution_count": 3,
   "metadata": {},
   "outputs": [],
   "source": [
    "def sum (a,b):  \n",
    "    return a+b;  "
   ]
  },
  {
   "cell_type": "code",
   "execution_count": 4,
   "metadata": {},
   "outputs": [
    {
     "name": "stdout",
     "output_type": "stream",
     "text": [
      "Enter a: 2\n",
      "Enter b: 3\n",
      "Sum =  5\n"
     ]
    }
   ],
   "source": [
    "#taking values from the user  \n",
    "a = int(input(\"Enter a: \"))  \n",
    "b = int(input(\"Enter b: \"))  \n",
    "  \n",
    "#printing the sum of a and b  \n",
    "print(\"Sum = \",sum(a,b))  "
   ]
  },
  {
   "cell_type": "code",
   "execution_count": 8,
   "metadata": {},
   "outputs": [
    {
     "name": "stdout",
     "output_type": "stream",
     "text": [
      "printing the string inside function : Hi I am there Hows you\n",
      "printing the string outside function : Hi I am there\n"
     ]
    }
   ],
   "source": [
    "def change_string (str):  \n",
    "    str = str + \" Hows you\";  \n",
    "    print(\"printing the string inside function :\",str);  \n",
    "  \n",
    "string1 = \"Hi I am there\"  \n",
    "  \n",
    "#calling the function  \n",
    "change_string(string1)  \n",
    "  \n",
    "print(\"printing the string outside function :\",string1)  "
   ]
  },
  {
   "cell_type": "code",
   "execution_count": 9,
   "metadata": {},
   "outputs": [
    {
     "name": "stdout",
     "output_type": "stream",
     "text": [
      "Enter the name?Radha\n",
      "Hi Radha\n"
     ]
    }
   ],
   "source": [
    "def func(name):  \n",
    "    message = \"Hi \"+name;  \n",
    "    return message;  \n",
    "name = input(\"Enter the name?\")  \n",
    "print(func(name))  "
   ]
  },
  {
   "cell_type": "code",
   "execution_count": 10,
   "metadata": {},
   "outputs": [
    {
     "name": "stdout",
     "output_type": "stream",
     "text": [
      "Enter the principle amount? 10000\n",
      "Enter the rate of interest? 20\n",
      "Enter the time in years? 20\n",
      "Simple Interest:  40000.0\n"
     ]
    }
   ],
   "source": [
    "#the function simple_interest accepts three arguments and returns the simple interest accordingly  \n",
    "def simple_interest(p,t,r):  \n",
    "    return (p*t*r)/100  \n",
    "p = float(input(\"Enter the principle amount? \"))  \n",
    "r = float(input(\"Enter the rate of interest? \"))  \n",
    "t = float(input(\"Enter the time in years? \"))  \n",
    "print(\"Simple Interest: \",simple_interest(p,r,t))"
   ]
  },
  {
   "cell_type": "markdown",
   "metadata": {},
   "source": [
    "# Scope of variables"
   ]
  },
  {
   "cell_type": "markdown",
   "metadata": {},
   "source": [
    "The scopes of the variables depend upon the location where the variable is being declared. The variable declared in one part of the program may not be accessible to the other parts.\n",
    "In python, the variables are defined with the two types of scopes.\n",
    "1.Global variables\n",
    "2.Local variables\n",
    "The variable defined outside any function is known to have a global scope whereas the variable defined inside a function is known to have a local scope."
   ]
  },
  {
   "cell_type": "code",
   "execution_count": 15,
   "metadata": {},
   "outputs": [],
   "source": [
    "def print_message():  \n",
    "    message = \"hello !! I am going to print a message.\" # the variable message is local to the function itself  \n",
    "    #print(message)  \n",
    "    print(\"Message is \",print_message())"
   ]
  },
  {
   "cell_type": "markdown",
   "metadata": {},
   "source": [
    "# Python Built-in Functions"
   ]
  },
  {
   "cell_type": "markdown",
   "metadata": {},
   "source": [
    "The Python built-in functions are defined as the functions whose functionality is pre-defined in Python"
   ]
  },
  {
   "cell_type": "markdown",
   "metadata": {},
   "source": [
    "# https://www.javatpoint.com/python-built-in-functions\n",
    "integer = -20  \n",
    "print('Absolute value of -40 is:', abs(integer))  \n",
    "  \n",
    "#  floating number  \n",
    "floating = -20.83  \n",
    "print('Absolute value of -40.83 is:', abs(floating))  "
   ]
  },
  {
   "cell_type": "markdown",
   "metadata": {},
   "source": [
    "# Python Lambda Functions"
   ]
  },
  {
   "cell_type": "markdown",
   "metadata": {},
   "source": [
    "# Python allows us to not declare the function in the standard manner, i.e., \n",
    "by using the def keyword. Rather, \n",
    "the anonymous functions are declared by using lambda keyword. However, \n",
    "Lambda functions can accept any number of arguments, but they can return only one value in the form of expression. "
   ]
  },
  {
   "cell_type": "markdown",
   "metadata": {},
   "source": [
    "synatx\n",
    "\n",
    "lambda arguments : expression \n"
   ]
  },
  {
   "cell_type": "code",
   "execution_count": 17,
   "metadata": {},
   "outputs": [
    {
     "name": "stdout",
     "output_type": "stream",
     "text": [
      "sum =  30\n"
     ]
    }
   ],
   "source": [
    "#https://www.javatpoint.com/python-lambda-functions\n",
    "x = lambda a:a+10 # a is an argument and a+10 is an expression which got evaluated and returned.   \n",
    "print(\"sum = \",x(20))  "
   ]
  },
  {
   "cell_type": "code",
   "execution_count": 18,
   "metadata": {},
   "outputs": [
    {
     "name": "stdout",
     "output_type": "stream",
     "text": [
      "sum =  30\n"
     ]
    }
   ],
   "source": [
    "#Multiple arguments to Lambda function\n",
    "x = lambda a,b:a+b # a and b are the arguments and a+b is the expression which gets evaluated and returned.   \n",
    "print(\"sum = \",x(20,10))  "
   ]
  },
  {
   "cell_type": "markdown",
   "metadata": {},
   "source": [
    "# Python File Handling "
   ]
  },
  {
   "cell_type": "markdown",
   "metadata": {},
   "source": [
    "Opening a file"
   ]
  },
  {
   "cell_type": "markdown",
   "metadata": {},
   "source": [
    "# Python provides the open() function which accepts two arguments, file name and access mode in which the file is accessed. \n",
    "The function returns a file object which can be used to perform various operations like reading, writing, etc.\n",
    "\n"
   ]
  },
  {
   "cell_type": "code",
   "execution_count": 21,
   "metadata": {},
   "outputs": [],
   "source": [
    "#file object = open(<file-name>, <access-mode>, <buffering>)    \n",
    "#https://www.javatpoint.com/python-files-io"
   ]
  },
  {
   "cell_type": "code",
   "execution_count": 23,
   "metadata": {},
   "outputs": [
    {
     "name": "stdout",
     "output_type": "stream",
     "text": [
      "file is opened successfully\n"
     ]
    }
   ],
   "source": [
    "#opens the file file.txt in read mode  \n",
    "fileptr = open(\"E:/Real_time_projectAccess.txt\",\"r\")  \n",
    "  \n",
    "if fileptr:  \n",
    "    print(\"file is opened successfully\")  "
   ]
  },
  {
   "cell_type": "code",
   "execution_count": 25,
   "metadata": {},
   "outputs": [],
   "source": [
    "#open the file.txt in append mode. Creates a new file if no such file exists.  \n",
    "fileptr = open(\"E:/Real_time_projectAccess.txt\",\"a\");   \n",
    "  \n",
    "#appending the content to the file  \n",
    "fileptr.write(\"Python is the modern day language. It makes things so simple.\")  \n",
    "  \n",
    "  \n",
    "#closing the opened file   \n",
    "fileptr.close();  "
   ]
  },
  {
   "cell_type": "code",
   "execution_count": 26,
   "metadata": {},
   "outputs": [
    {
     "name": "stdout",
     "output_type": "stream",
     "text": [
      "<_io.TextIOWrapper name='E:/Real_time_projectAccess1.txt' mode='x' encoding='cp1252'>\n",
      "File created successfully\n"
     ]
    }
   ],
   "source": [
    "#open the file.txt in read mode. causes error if no such file exists.  \n",
    "fileptr = open(\"E:/Real_time_projectAccess1.txt\",\"x\");   \n",
    "  \n",
    "print(fileptr)  \n",
    "  \n",
    "if fileptr:  \n",
    "    print(\"File created successfully\");  "
   ]
  },
  {
   "cell_type": "code",
   "execution_count": 27,
   "metadata": {},
   "outputs": [
    {
     "name": "stdout",
     "output_type": "stream",
     "text": [
      "https://www.dezyre.com/article/top-10-machine-learning-projects-for-beginners/397\n",
      "\n",
      "https://machinelearningmastery.com/machine-learning-in-python-step-by-step/\n",
      "\n",
      "https://www.hackerearth.com/practice/machine-learning/machine-learning-projects/python-project/tutorial/\n",
      "\n",
      "https://projectworlds.in/free-projects/machine-learning-projects-with-source-code/\n",
      "\n",
      "https://slogix.in/project-titles-in-machine-learning\n",
      "\n",
      "https://stackabuse.com/using-machine-learning-to-predict-the-weather-part-1/\n",
      "\n",
      "\n",
      "https://www.kaggle.com/\n",
      "\n",
      "id:radhakrishnads2019@gmail.com\n",
      "ps:samePython is the modern day language. It makes things so simple.\n"
     ]
    }
   ],
   "source": [
    "with open(\"E:/Real_time_projectAccess.txt\",'r') as f:  \n",
    "    content = f.read();  \n",
    "    print(content)  "
   ]
  },
  {
   "cell_type": "markdown",
   "metadata": {},
   "source": [
    "# Python Modules"
   ]
  },
  {
   "cell_type": "markdown",
   "metadata": {},
   "source": [
    "A python module can be defined as a python program file which contains a python code including python functions, class, or variables. In other words, we can say that our python code file saved with the extension (.py) is treated as the module. \n",
    "We may have a runnable code inside the python module. "
   ]
  },
  {
   "cell_type": "code",
   "execution_count": 30,
   "metadata": {},
   "outputs": [],
   "source": [
    "#Done with lot of others files"
   ]
  },
  {
   "cell_type": "markdown",
   "metadata": {},
   "source": [
    "# Python Exceptions"
   ]
  },
  {
   "cell_type": "markdown",
   "metadata": {},
   "source": [
    "An exception can be defined as an abnormal condition in a program resulting in the disruption in the flow of the program."
   ]
  },
  {
   "cell_type": "markdown",
   "metadata": {},
   "source": [
    "# Common Exceptions"
   ]
  },
  {
   "cell_type": "markdown",
   "metadata": {},
   "source": [
    "# A list of common exceptions that can be thrown from a normal python program is given below. \n",
    "1.ZeroDivisionError: Occurs when a number is divided by zero.\n",
    "2.NameError: It occurs when a name is not found. It may be local or global.\n",
    "3.IndentationError: If incorrect indentation is given.\n",
    "4.IOError: It occurs when Input Output operation fails.\n",
    "5.EOFError: It occurs when the end of the file is reached, and yet operations are being performed."
   ]
  },
  {
   "cell_type": "code",
   "execution_count": 32,
   "metadata": {},
   "outputs": [
    {
     "name": "stdout",
     "output_type": "stream",
     "text": [
      "Enter a:10\n",
      "Enter b:0\n"
     ]
    },
    {
     "ename": "ZeroDivisionError",
     "evalue": "division by zero",
     "output_type": "error",
     "traceback": [
      "\u001b[1;31m---------------------------------------------------------------------------\u001b[0m",
      "\u001b[1;31mZeroDivisionError\u001b[0m                         Traceback (most recent call last)",
      "\u001b[1;32m<ipython-input-32-ddeeb6fffae0>\u001b[0m in \u001b[0;36m<module>\u001b[1;34m\u001b[0m\n\u001b[0;32m      1\u001b[0m \u001b[0ma\u001b[0m \u001b[1;33m=\u001b[0m \u001b[0mint\u001b[0m\u001b[1;33m(\u001b[0m\u001b[0minput\u001b[0m\u001b[1;33m(\u001b[0m\u001b[1;34m\"Enter a:\"\u001b[0m\u001b[1;33m)\u001b[0m\u001b[1;33m)\u001b[0m\u001b[1;33m\u001b[0m\u001b[1;33m\u001b[0m\u001b[0m\n\u001b[0;32m      2\u001b[0m \u001b[0mb\u001b[0m \u001b[1;33m=\u001b[0m \u001b[0mint\u001b[0m\u001b[1;33m(\u001b[0m\u001b[0minput\u001b[0m\u001b[1;33m(\u001b[0m\u001b[1;34m\"Enter b:\"\u001b[0m\u001b[1;33m)\u001b[0m\u001b[1;33m)\u001b[0m\u001b[1;33m\u001b[0m\u001b[1;33m\u001b[0m\u001b[0m\n\u001b[1;32m----> 3\u001b[1;33m \u001b[0mc\u001b[0m \u001b[1;33m=\u001b[0m \u001b[0ma\u001b[0m\u001b[1;33m/\u001b[0m\u001b[0mb\u001b[0m\u001b[1;33m;\u001b[0m\u001b[1;33m\u001b[0m\u001b[1;33m\u001b[0m\u001b[0m\n\u001b[0m\u001b[0;32m      4\u001b[0m \u001b[0mprint\u001b[0m\u001b[1;33m(\u001b[0m\u001b[1;34m\"a/b = %d\"\u001b[0m\u001b[1;33m%\u001b[0m\u001b[0mc\u001b[0m\u001b[1;33m)\u001b[0m\u001b[1;33m\u001b[0m\u001b[1;33m\u001b[0m\u001b[0m\n\u001b[0;32m      5\u001b[0m \u001b[1;33m\u001b[0m\u001b[0m\n",
      "\u001b[1;31mZeroDivisionError\u001b[0m: division by zero"
     ]
    }
   ],
   "source": [
    "a = int(input(\"Enter a:\"))  \n",
    "b = int(input(\"Enter b:\"))  \n",
    "c = a/b;  \n",
    "print(\"a/b = %d\"%c)  \n",
    "\n",
    "print(\"Welcome to media3\")"
   ]
  },
  {
   "cell_type": "markdown",
   "metadata": {},
   "source": [
    "Exception handling in python "
   ]
  },
  {
   "cell_type": "markdown",
   "metadata": {},
   "source": [
    "try:  \n",
    "    #block of code   \n",
    "  \n",
    "except Exception1:  \n",
    "    #block of code  \n",
    "  \n",
    "except Exception2:  \n",
    "    #block of code  \n",
    "  \n",
    "#other code  "
   ]
  },
  {
   "cell_type": "markdown",
   "metadata": {},
   "source": [
    "try:  \n",
    "    #block of code   \n",
    "  \n",
    "except Exception1:  \n",
    "    #block of code   \n",
    "  \n",
    "else:  \n",
    "    #this code executes if no except block is executed  "
   ]
  },
  {
   "cell_type": "code",
   "execution_count": 34,
   "metadata": {},
   "outputs": [
    {
     "name": "stdout",
     "output_type": "stream",
     "text": [
      "Enter a:10\n",
      "Enter b:5\n",
      "a/b = 2\n",
      "Hi I am else block\n"
     ]
    }
   ],
   "source": [
    "try:  \n",
    "    a = int(input(\"Enter a:\"))  \n",
    "    b = int(input(\"Enter b:\"))  \n",
    "    c = a/b;  \n",
    "    print(\"a/b = %d\"%c)  \n",
    "except Exception:  \n",
    "    print(\"can't divide by zero\")  \n",
    "else:  \n",
    "    print(\"Hi I am else block\")"
   ]
  },
  {
   "cell_type": "code",
   "execution_count": 35,
   "metadata": {},
   "outputs": [
    {
     "name": "stdout",
     "output_type": "stream",
     "text": [
      "File not found\n"
     ]
    }
   ],
   "source": [
    "try:  \n",
    "    #this will throw an exception if the file doesn't exist.   \n",
    "    fileptr = open(\"file.txt\",\"r\")  \n",
    "except IOError:  \n",
    "    print(\"File not found\")  \n",
    "else:  \n",
    "    print(\"The file opened successfully\")  \n",
    "    fileptr.close()  "
   ]
  },
  {
   "cell_type": "code",
   "execution_count": 36,
   "metadata": {},
   "outputs": [
    {
     "name": "stdout",
     "output_type": "stream",
     "text": [
      "The file opened successfully\n"
     ]
    }
   ],
   "source": [
    "try:  \n",
    "    #this will throw an exception if the file doesn't exist.   \n",
    "    fileptr = open(\"E:/Real_time_projectAccess1.txt\",\"r\")  \n",
    "except IOError:  \n",
    "    print(\"File not found\")  \n",
    "else:  \n",
    "    print(\"The file opened successfully\")  \n",
    "    fileptr.close()  "
   ]
  },
  {
   "cell_type": "code",
   "execution_count": 37,
   "metadata": {},
   "outputs": [
    {
     "ename": "SyntaxError",
     "evalue": "invalid syntax (<ipython-input-37-c19734ac8bd5>, line 3)",
     "output_type": "error",
     "traceback": [
      "\u001b[1;36m  File \u001b[1;32m\"<ipython-input-37-c19734ac8bd5>\"\u001b[1;36m, line \u001b[1;32m3\u001b[0m\n\u001b[1;33m    except ArithmeticError,StandardError:\u001b[0m\n\u001b[1;37m                          ^\u001b[0m\n\u001b[1;31mSyntaxError\u001b[0m\u001b[1;31m:\u001b[0m invalid syntax\n"
     ]
    }
   ],
   "source": [
    "try:    \n",
    "    a=10/0;    \n",
    "except ArithmeticError,StandardError:    \n",
    "    print \"Arithmetic Exception\"    \n",
    "else:    \n",
    "    print \"Successfully Done\"   "
   ]
  },
  {
   "cell_type": "markdown",
   "metadata": {},
   "source": [
    "try:  \n",
    "    # block of code   \n",
    "    # this may throw an exception  \n",
    "finally:  \n",
    "    # block of code  \n",
    "    # this will always be executed "
   ]
  },
  {
   "cell_type": "code",
   "execution_count": 39,
   "metadata": {},
   "outputs": [
    {
     "name": "stdout",
     "output_type": "stream",
     "text": [
      "file closed\n",
      "Error\n"
     ]
    }
   ],
   "source": [
    "try:  \n",
    "    fileptr = open(\"E:/Real_time_projectAccess1.txt\",\"r\")    \n",
    "    try:  \n",
    "        fileptr.write(\"Hi I am good\")  \n",
    "    finally:  \n",
    "        fileptr.close()  \n",
    "        print(\"file closed\")  \n",
    "except:  \n",
    "    print(\"Error\")  "
   ]
  },
  {
   "cell_type": "code",
   "execution_count": 42,
   "metadata": {},
   "outputs": [
    {
     "name": "stdout",
     "output_type": "stream",
     "text": [
      "Enter the age?21\n",
      "the age is valid\n"
     ]
    }
   ],
   "source": [
    "#Raising exceptions\n",
    "#raise Exception_class,<value>  \n",
    "try:  \n",
    "    age = int(input(\"Enter the age?\"))  \n",
    "    if age<18:  \n",
    "        raise ValueError;  \n",
    "    else:  \n",
    "        print(\"the age is valid\")  \n",
    "except ValueError:  \n",
    "    print(\"The age is not valid\")  "
   ]
  },
  {
   "cell_type": "markdown",
   "metadata": {},
   "source": [
    "# Custom Exception "
   ]
  },
  {
   "cell_type": "markdown",
   "metadata": {},
   "source": [
    "class ErrorInCode(Exception):    \n",
    "    def __init__(self, data):    \n",
    "        self.data = data    \n",
    "    def __str__(self):    \n",
    "        return repr(self.data)  "
   ]
  },
  {
   "cell_type": "code",
   "execution_count": 44,
   "metadata": {},
   "outputs": [
    {
     "ename": "NameError",
     "evalue": "name 'ErrorInCode' is not defined",
     "output_type": "error",
     "traceback": [
      "\u001b[1;31m---------------------------------------------------------------------------\u001b[0m",
      "\u001b[1;31mNameError\u001b[0m                                 Traceback (most recent call last)",
      "\u001b[1;32m<ipython-input-44-d501e039aea0>\u001b[0m in \u001b[0;36m<module>\u001b[1;34m\u001b[0m\n\u001b[0;32m      1\u001b[0m \u001b[1;32mtry\u001b[0m\u001b[1;33m:\u001b[0m\u001b[1;33m\u001b[0m\u001b[1;33m\u001b[0m\u001b[0m\n\u001b[1;32m----> 2\u001b[1;33m     \u001b[1;32mraise\u001b[0m \u001b[0mErrorInCode\u001b[0m\u001b[1;33m(\u001b[0m\u001b[1;36m2000\u001b[0m\u001b[1;33m)\u001b[0m\u001b[1;33m\u001b[0m\u001b[1;33m\u001b[0m\u001b[0m\n\u001b[0m\u001b[0;32m      3\u001b[0m \u001b[1;32mexcept\u001b[0m \u001b[0mErrorInCode\u001b[0m \u001b[1;32mas\u001b[0m \u001b[0mae\u001b[0m\u001b[1;33m:\u001b[0m\u001b[1;33m\u001b[0m\u001b[1;33m\u001b[0m\u001b[0m\n",
      "\u001b[1;31mNameError\u001b[0m: name 'ErrorInCode' is not defined",
      "\nDuring handling of the above exception, another exception occurred:\n",
      "\u001b[1;31mNameError\u001b[0m                                 Traceback (most recent call last)",
      "\u001b[1;32m<ipython-input-44-d501e039aea0>\u001b[0m in \u001b[0;36m<module>\u001b[1;34m\u001b[0m\n\u001b[0;32m      1\u001b[0m \u001b[1;32mtry\u001b[0m\u001b[1;33m:\u001b[0m\u001b[1;33m\u001b[0m\u001b[1;33m\u001b[0m\u001b[0m\n\u001b[0;32m      2\u001b[0m     \u001b[1;32mraise\u001b[0m \u001b[0mErrorInCode\u001b[0m\u001b[1;33m(\u001b[0m\u001b[1;36m2000\u001b[0m\u001b[1;33m)\u001b[0m\u001b[1;33m\u001b[0m\u001b[1;33m\u001b[0m\u001b[0m\n\u001b[1;32m----> 3\u001b[1;33m \u001b[1;32mexcept\u001b[0m \u001b[0mErrorInCode\u001b[0m \u001b[1;32mas\u001b[0m \u001b[0mae\u001b[0m\u001b[1;33m:\u001b[0m\u001b[1;33m\u001b[0m\u001b[1;33m\u001b[0m\u001b[0m\n\u001b[0m\u001b[0;32m      4\u001b[0m     \u001b[0mprint\u001b[0m\u001b[1;33m(\u001b[0m\u001b[1;34m\"Received error:\"\u001b[0m\u001b[1;33m,\u001b[0m \u001b[0mae\u001b[0m\u001b[1;33m.\u001b[0m\u001b[0mdata\u001b[0m\u001b[1;33m)\u001b[0m\u001b[1;33m\u001b[0m\u001b[1;33m\u001b[0m\u001b[0m\n",
      "\u001b[1;31mNameError\u001b[0m: name 'ErrorInCode' is not defined"
     ]
    }
   ],
   "source": [
    "try:    \n",
    "    raise ErrorInCode(2000)    \n",
    "except ErrorInCode as ae:    \n",
    "    print(\"Received error:\", ae.data)  "
   ]
  },
  {
   "cell_type": "markdown",
   "metadata": {},
   "source": [
    "# Python Date and time   "
   ]
  },
  {
   "cell_type": "code",
   "execution_count": 47,
   "metadata": {},
   "outputs": [
    {
     "name": "stdout",
     "output_type": "stream",
     "text": [
      "1566546797.6501844\n",
      "time.struct_time(tm_year=2019, tm_mon=8, tm_mday=23, tm_hour=13, tm_min=23, tm_sec=17, tm_wday=4, tm_yday=235, tm_isdst=0)\n",
      "Fri Aug 23 13:23:17 2019\n"
     ]
    }
   ],
   "source": [
    "import time;  \n",
    "  #prints the number of ticks spent since 12 AM, 1st January 1970  \n",
    "print(time.time())\n",
    "print(time.localtime(time.time())) \n",
    "print(time.asctime(time.localtime(time.time())))  "
   ]
  },
  {
   "cell_type": "markdown",
   "metadata": {},
   "source": [
    "# Python sleep time"
   ]
  },
  {
   "cell_type": "code",
   "execution_count": 48,
   "metadata": {},
   "outputs": [
    {
     "name": "stdout",
     "output_type": "stream",
     "text": [
      "0\n",
      "1\n",
      "2\n",
      "3\n",
      "4\n"
     ]
    }
   ],
   "source": [
    "import time  \n",
    "for i in range(0,5):  \n",
    "    print(i)  \n",
    "    #Each element will be printed after 1 second  \n",
    "    time.sleep(2)  "
   ]
  },
  {
   "cell_type": "markdown",
   "metadata": {},
   "source": [
    "# Creating date objects"
   ]
  },
  {
   "cell_type": "code",
   "execution_count": 49,
   "metadata": {},
   "outputs": [
    {
     "name": "stdout",
     "output_type": "stream",
     "text": [
      "2018-12-10 00:00:00\n"
     ]
    }
   ],
   "source": [
    "import datetime;  \n",
    "  \n",
    "#returns the datetime object for the specified date  \n",
    "  \n",
    "print(datetime.datetime(2018,12,10))  "
   ]
  },
  {
   "cell_type": "code",
   "execution_count": 50,
   "metadata": {},
   "outputs": [
    {
     "name": "stdout",
     "output_type": "stream",
     "text": [
      "   December 2018\n",
      "Mo Tu We Th Fr Sa Su\n",
      "                1  2\n",
      " 3  4  5  6  7  8  9\n",
      "10 11 12 13 14 15 16\n",
      "17 18 19 20 21 22 23\n",
      "24 25 26 27 28 29 30\n",
      "31\n",
      "\n"
     ]
    }
   ],
   "source": [
    "import calendar;  \n",
    "cal = calendar.month(2018,12)  \n",
    "#printing the calendar of December 2018  \n",
    "print(cal)  "
   ]
  },
  {
   "cell_type": "code",
   "execution_count": 51,
   "metadata": {},
   "outputs": [
    {
     "name": "stdout",
     "output_type": "stream",
     "text": [
      "                                  2019\n",
      "\n",
      "      January                   February                   March\n",
      "Mo Tu We Th Fr Sa Su      Mo Tu We Th Fr Sa Su      Mo Tu We Th Fr Sa Su\n",
      "    1  2  3  4  5  6                   1  2  3                   1  2  3\n",
      " 7  8  9 10 11 12 13       4  5  6  7  8  9 10       4  5  6  7  8  9 10\n",
      "14 15 16 17 18 19 20      11 12 13 14 15 16 17      11 12 13 14 15 16 17\n",
      "21 22 23 24 25 26 27      18 19 20 21 22 23 24      18 19 20 21 22 23 24\n",
      "28 29 30 31               25 26 27 28               25 26 27 28 29 30 31\n",
      "\n",
      "       April                      May                       June\n",
      "Mo Tu We Th Fr Sa Su      Mo Tu We Th Fr Sa Su      Mo Tu We Th Fr Sa Su\n",
      " 1  2  3  4  5  6  7             1  2  3  4  5                      1  2\n",
      " 8  9 10 11 12 13 14       6  7  8  9 10 11 12       3  4  5  6  7  8  9\n",
      "15 16 17 18 19 20 21      13 14 15 16 17 18 19      10 11 12 13 14 15 16\n",
      "22 23 24 25 26 27 28      20 21 22 23 24 25 26      17 18 19 20 21 22 23\n",
      "29 30                     27 28 29 30 31            24 25 26 27 28 29 30\n",
      "\n",
      "        July                     August                  September\n",
      "Mo Tu We Th Fr Sa Su      Mo Tu We Th Fr Sa Su      Mo Tu We Th Fr Sa Su\n",
      " 1  2  3  4  5  6  7                1  2  3  4                         1\n",
      " 8  9 10 11 12 13 14       5  6  7  8  9 10 11       2  3  4  5  6  7  8\n",
      "15 16 17 18 19 20 21      12 13 14 15 16 17 18       9 10 11 12 13 14 15\n",
      "22 23 24 25 26 27 28      19 20 21 22 23 24 25      16 17 18 19 20 21 22\n",
      "29 30 31                  26 27 28 29 30 31         23 24 25 26 27 28 29\n",
      "                                                    30\n",
      "\n",
      "      October                   November                  December\n",
      "Mo Tu We Th Fr Sa Su      Mo Tu We Th Fr Sa Su      Mo Tu We Th Fr Sa Su\n",
      "    1  2  3  4  5  6                   1  2  3                         1\n",
      " 7  8  9 10 11 12 13       4  5  6  7  8  9 10       2  3  4  5  6  7  8\n",
      "14 15 16 17 18 19 20      11 12 13 14 15 16 17       9 10 11 12 13 14 15\n",
      "21 22 23 24 25 26 27      18 19 20 21 22 23 24      16 17 18 19 20 21 22\n",
      "28 29 30 31               25 26 27 28 29 30         23 24 25 26 27 28 29\n",
      "                                                    30 31\n"
     ]
    }
   ],
   "source": [
    "import calendar  \n",
    "  \n",
    "#printing the calendar of the year 2019  \n",
    "calendar.prcal(2019) "
   ]
  },
  {
   "cell_type": "markdown",
   "metadata": {},
   "source": [
    "# Python Regular Expressions"
   ]
  },
  {
   "cell_type": "code",
   "execution_count": 52,
   "metadata": {},
   "outputs": [
    {
     "name": "stdout",
     "output_type": "stream",
     "text": [
      "['How', 'How']\n",
      "['How', 'How']\n"
     ]
    }
   ],
   "source": [
    "import re   \n",
    "\n",
    "str = \"How are you. How is everything\"  \n",
    "  \n",
    "matches = re.findall(\"How\", str)  \n",
    "  \n",
    "print(matches)  \n",
    "  \n",
    "print(matches)  "
   ]
  },
  {
   "cell_type": "code",
   "execution_count": null,
   "metadata": {},
   "outputs": [],
   "source": []
  }
 ],
 "metadata": {
  "kernelspec": {
   "display_name": "Python 3",
   "language": "python",
   "name": "python3"
  },
  "language_info": {
   "codemirror_mode": {
    "name": "ipython",
    "version": 3
   },
   "file_extension": ".py",
   "mimetype": "text/x-python",
   "name": "python",
   "nbconvert_exporter": "python",
   "pygments_lexer": "ipython3",
   "version": "3.7.3"
  }
 },
 "nbformat": 4,
 "nbformat_minor": 2
}
