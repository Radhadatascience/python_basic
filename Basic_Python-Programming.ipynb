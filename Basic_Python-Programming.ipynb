{
 "cells": [
  {
   "cell_type": "code",
   "execution_count": 4,
   "metadata": {},
   "outputs": [
    {
     "name": "stdout",
     "output_type": "stream",
     "text": [
      "Welcome to world of python!!!\n"
     ]
    }
   ],
   "source": [
    "#https://www.javatpoint.com/python-for-loop\n",
    "print('Welcome to world of python!!!')"
   ]
  },
  {
   "cell_type": "code",
   "execution_count": 5,
   "metadata": {},
   "outputs": [
    {
     "name": "stdout",
     "output_type": "stream",
     "text": [
      "The val of c is: 20\n"
     ]
    }
   ],
   "source": [
    "a=10\n",
    "b=10\n",
    "c=a+b\n",
    "print('The val of c is:',c)"
   ]
  },
  {
   "cell_type": "code",
   "execution_count": 6,
   "metadata": {},
   "outputs": [
    {
     "name": "stdout",
     "output_type": "stream",
     "text": [
      "10\n",
      "radha\n",
      "20000.67\n",
      "5 10 15\n"
     ]
    }
   ],
   "source": [
    "#Assinging a values = operator \n",
    "a=10\n",
    "name='radha'\n",
    "salary=20000.67\n",
    "print(a)\n",
    "print(name)\n",
    "print(salary)\n",
    "\n",
    "#multpli values \n",
    "a,b,c=5,10,15\n",
    "print(a,b,c)"
   ]
  },
  {
   "cell_type": "code",
   "execution_count": 7,
   "metadata": {},
   "outputs": [
    {
     "name": "stdout",
     "output_type": "stream",
     "text": [
      "('rahul', 100, 60.2, 'deepak')\n",
      "('rahul', 100, 60.2, 'deepak', 'rahulrama', 101, 70.2, 'deepakteja')\n"
     ]
    }
   ],
   "source": [
    "#Tuple can be stored with different type of data\n",
    "a=('rahul',100,60.2,'deepak')\n",
    "print(a)\n",
    "b=('rahulrama',101,70.2,'deepakteja')\n",
    "print(a+b)"
   ]
  },
  {
   "cell_type": "code",
   "execution_count": 8,
   "metadata": {},
   "outputs": [
    {
     "name": "stdout",
     "output_type": "stream",
     "text": [
      "{'name': 'rahul', 'id': '100', 'dept': 'IT'}\n"
     ]
    }
   ],
   "source": [
    "#Dictionary is a collection on a key value pairs\n",
    "a={'name':'rahul','id':'100','dept':'IT'}\n",
    "print(a)"
   ]
  },
  {
   "cell_type": "code",
   "execution_count": 9,
   "metadata": {},
   "outputs": [
    {
     "data": {
      "text/plain": [
       "dict_keys(['name', 'id', 'dept'])"
      ]
     },
     "execution_count": 9,
     "metadata": {},
     "output_type": "execute_result"
    }
   ],
   "source": [
    "a={'name':'rahul','id':'100','dept':'IT'}\n",
    "a.keys()"
   ]
  },
  {
   "cell_type": "code",
   "execution_count": 10,
   "metadata": {},
   "outputs": [
    {
     "data": {
      "text/plain": [
       "dict_values(['rahul', '100', 'IT'])"
      ]
     },
     "execution_count": 10,
     "metadata": {},
     "output_type": "execute_result"
    }
   ],
   "source": [
    "a={'name':'rahul','id':'100','dept':'IT'}\n",
    "a.values()"
   ]
  },
  {
   "cell_type": "code",
   "execution_count": 11,
   "metadata": {},
   "outputs": [
    {
     "name": "stdout",
     "output_type": "stream",
     "text": [
      "<class 'int'>\n",
      "<class 'str'>\n",
      "<class 'float'>\n"
     ]
    }
   ],
   "source": [
    "#DataTypes\n",
    "a=10\n",
    "b='hello world'\n",
    "c=10.5\n",
    "print(type(a))\n",
    "print(type(b))\n",
    "print(type(c))"
   ]
  },
  {
   "cell_type": "code",
   "execution_count": 12,
   "metadata": {},
   "outputs": [
    {
     "name": "stdout",
     "output_type": "stream",
     "text": [
      "13\n",
      "HelloHello\n",
      "HelloArun\n",
      "He\n",
      "o\n",
      "[2]\n",
      "[1, 'hai']\n",
      "[1, 'hai', 'python', 2]\n",
      "('python', 2)\n",
      "1 name israhul\n",
      "Dept is IT\n"
     ]
    }
   ],
   "source": [
    "#Standard Data type used !!!\n",
    "#Numbers,Strings,List,Tuple,Dictionary\n",
    "#Numbers\n",
    "a=3\n",
    "b=10\n",
    "print(a+b)\n",
    "#Strings\n",
    "str1='Hello'\n",
    "str2='Arun'\n",
    "print(str1*2)\n",
    "print(str1+str2)\n",
    "#print the first two characters\n",
    "print(str1[0:2])\n",
    "print(str1[4])\n",
    "#List\n",
    "i=[1,\"hai\",\"python\",2]\n",
    "print(i[3:]);\n",
    "print(i[0:2]);\n",
    "print(i)\n",
    "#Tuple\n",
    "t=(\"hi\",\"python\",2)\n",
    "print(t[1:]);\n",
    "#Dicrionary\n",
    "d={1:'rahul',2:'100',4:'IT'}\n",
    "print(\"1 name is\"+d[1]);\n",
    "print(\"Dept is \"+d[4]);\n"
   ]
  },
  {
   "cell_type": "code",
   "execution_count": 13,
   "metadata": {},
   "outputs": [
    {
     "name": "stdout",
     "output_type": "stream",
     "text": [
      "Hello\n",
      "12345\n"
     ]
    }
   ],
   "source": [
    "#Python Literals\n",
    "#1.String literals\n",
    "\"Hello\",'12345'\n",
    "print('Hello')\n",
    "print(12345)"
   ]
  },
  {
   "cell_type": "code",
   "execution_count": 14,
   "metadata": {},
   "outputs": [
    {
     "name": "stdout",
     "output_type": "stream",
     "text": [
      "Hello\n"
     ]
    }
   ],
   "source": [
    "#2.Types of Strings \n",
    "#1.Single line string\n",
    "text1='Hello'\n",
    "print(text1)\n"
   ]
  },
  {
   "cell_type": "code",
   "execution_count": 15,
   "metadata": {},
   "outputs": [
    {
     "name": "stdout",
     "output_type": "stream",
     "text": [
      "Not holiday bro!! Please start working :(\n"
     ]
    }
   ],
   "source": [
    "#3.Boolean literals:\n",
    "#A Boolean literal can have any of the two values: True or False.\n",
    "isSunday = False\n",
    "isHoliday = True\n",
    "\n",
    "if isHoliday and isSunday:\n",
    "    print('Sunday is a Funday!!')\n",
    "else:\n",
    "    print('Not holiday bro!! Please start working :(')"
   ]
  },
  {
   "cell_type": "code",
   "execution_count": 16,
   "metadata": {},
   "outputs": [
    {
     "name": "stdout",
     "output_type": "stream",
     "text": [
      "10\n"
     ]
    }
   ],
   "source": [
    "#4.Special literals.\n",
    "#Python contains one special literal i.e., None.\n",
    "val1=10\n",
    "val2=None\n",
    "print(val1)"
   ]
  },
  {
   "cell_type": "code",
   "execution_count": 17,
   "metadata": {},
   "outputs": [],
   "source": [
    "#5.Literal Collections.\n",
    "#Collections such as tuples, lists and Dictionary are used in Python.\n"
   ]
  },
  {
   "cell_type": "markdown",
   "metadata": {},
   "source": [
    "# Python Operators "
   ]
  },
  {
   "cell_type": "markdown",
   "metadata": {},
   "source": [
    "The operator can be defined as a symbol which is responsible for a particular operation between two operands. Operators are the pillars of a program on which the logic is built in a particular programming language. Python provides a variety of operators described as follows. "
   ]
  },
  {
   "cell_type": "markdown",
   "metadata": {},
   "source": [
    "1.Arithmetic operators \n",
    "2.Comparison operators\n",
    "3.Assignment Operators\n",
    "4.Logical Operators\n",
    "5.Bitwise Operators\n",
    "6.Membership Operators \n",
    "7.Identity Operators "
   ]
  },
  {
   "cell_type": "markdown",
   "metadata": {},
   "source": [
    "2.Arithmetic operators are used to perform arithmetic operations between two operands. It includes +(addition), - (subtraction), *(multiplication), /(divide), %(reminder), //(floor division), and exponent (**). "
   ]
  },
  {
   "cell_type": "code",
   "execution_count": 18,
   "metadata": {},
   "outputs": [],
   "source": [
    "x = 6\n",
    "y = 2"
   ]
  },
  {
   "cell_type": "code",
   "execution_count": 19,
   "metadata": {},
   "outputs": [
    {
     "name": "stdout",
     "output_type": "stream",
     "text": [
      "8\n",
      "4\n",
      "12\n",
      "3.0\n",
      "0\n",
      "36\n"
     ]
    }
   ],
   "source": [
    "\n",
    "# addition\n",
    "print(x + y)\t# 8\n",
    "\n",
    "# subtraction\n",
    "print(x - y)\t# 4\n",
    "\n",
    "# multiplication\n",
    "print(x * y)\t# 12\n",
    "\n",
    "# division\n",
    "print(x / y)\t# 3\n",
    "\n",
    "# modulus\n",
    "print(x % y)\t# 0\n",
    "\n",
    "# exponentiation\n",
    "print(x ** y)\t# 36\n"
   ]
  },
  {
   "cell_type": "markdown",
   "metadata": {},
   "source": [
    "# Comparison Operators"
   ]
  },
  {
   "cell_type": "markdown",
   "metadata": {},
   "source": [
    "#Comparison operators are used to compare two values."
   ]
  },
  {
   "cell_type": "code",
   "execution_count": 20,
   "metadata": {},
   "outputs": [],
   "source": [
    "x = 6\n",
    "y = 2"
   ]
  },
  {
   "cell_type": "markdown",
   "metadata": {},
   "source": [
    "Comparison operations:"
   ]
  },
  {
   "cell_type": "code",
   "execution_count": 21,
   "metadata": {},
   "outputs": [
    {
     "name": "stdout",
     "output_type": "stream",
     "text": [
      "False\n",
      "True\n",
      "True\n",
      "False\n",
      "True\n",
      "False\n"
     ]
    }
   ],
   "source": [
    "# equal to\n",
    "print(x == y)\t# False\n",
    "\n",
    "# not equal to\n",
    "print(x != y)\t# True\n",
    "\n",
    "# greater than\n",
    "print(x > y)\t# True\n",
    "\n",
    "# less than\n",
    "print(x < y)\t# False\n",
    "\n",
    "# greater than or equal to\n",
    "print(x >= y)\t# True\n",
    "\n",
    "# less than or equal to\n",
    "print(x <= y)\t# False"
   ]
  },
  {
   "cell_type": "markdown",
   "metadata": {},
   "source": [
    "# Assignment Operators"
   ]
  },
  {
   "cell_type": "markdown",
   "metadata": {},
   "source": [
    "Assignment operators are used to assign new values to variables."
   ]
  },
  {
   "cell_type": "markdown",
   "metadata": {},
   "source": [
    "    \n",
    "Assignment\n",
    "x = 3\n",
    "x = 3\n",
    "+=\n",
    "Addition assignment\n",
    "x += 3\n",
    "x = x + 3\n",
    "-=\n",
    "Subtraction assignment\n",
    "x -= 3\n",
    "x = x – 3\n",
    "*=\n",
    "Multiplication assignment\n",
    "x *= 3\n",
    "x = x * 3\n",
    "/=\n",
    "Division assignment\n",
    "x /= 3\n",
    "x = x / 3\n",
    "%=\n",
    "Modulus assignment\n",
    "x %= 3\n",
    "x = x % 3\n",
    "//=\n",
    "Floor division assignment\n",
    "x //= 3\n",
    "x = x // 3\n",
    "**=\n",
    "Exponentiation assignment\n",
    "x **= 3\n",
    "x = x ** 3\n",
    "&=\n",
    "Bitwise AND assignment\n",
    "x &= 3\n",
    "x = x & 3\n",
    "|=\n",
    "Bitwise OR assignment\n",
    "x |= 3\n",
    "x = x | 3\n",
    "^=\n",
    "Bitwise XOR assignment\n",
    "x ^= 3\n",
    "x = x ^ 3\n",
    ">>=\n",
    "Bitwise right shift assignment\n",
    "x >>= 3\n",
    "x = x >> 3\n",
    "<<=\n",
    "Bitwise left shift assignment\n",
    "x <<= 3\n",
    "x = x << 3"
   ]
  },
  {
   "cell_type": "markdown",
   "metadata": {},
   "source": [
    "# Logical Operators"
   ]
  },
  {
   "cell_type": "markdown",
   "metadata": {},
   "source": [
    "#Logical operators are used to join two or more conditions.\n"
   ]
  },
  {
   "cell_type": "code",
   "execution_count": 22,
   "metadata": {},
   "outputs": [],
   "source": [
    "x = 2\n",
    "y = -2"
   ]
  },
  {
   "cell_type": "code",
   "execution_count": 23,
   "metadata": {},
   "outputs": [
    {
     "name": "stdout",
     "output_type": "stream",
     "text": [
      "True\n",
      "True\n",
      "False\n"
     ]
    }
   ],
   "source": [
    "#Logical operations:\n",
    "\n",
    "# and\n",
    "print(x > 0 and y < 0)\t\t\t# True\n",
    "\n",
    "# or\n",
    "print(x > 0 or y < 0)\t\t\t# True\n",
    "\n",
    "# not\n",
    "print(not(x > 0 and y < 0))\t\t# False"
   ]
  },
  {
   "cell_type": "code",
   "execution_count": 24,
   "metadata": {},
   "outputs": [],
   "source": [
    "#Comments topic"
   ]
  },
  {
   "cell_type": "markdown",
   "metadata": {},
   "source": [
    "# Python If-else statements "
   ]
  },
  {
   "cell_type": "markdown",
   "metadata": {},
   "source": [
    "Decision making is the most important aspect of almost all the programming languages. As the name implies, decision making allows us to run a particular block of code for a particular decision. Here, the decisions are made on the validity of the particular conditions. Condition checking is the backbone of decision making."
   ]
  },
  {
   "cell_type": "markdown",
   "metadata": {},
   "source": [
    "if expression:  \n",
    "    statement  "
   ]
  },
  {
   "cell_type": "code",
   "execution_count": null,
   "metadata": {},
   "outputs": [],
   "source": [
    "#Let us see the example\n",
    "num = int(input(\"enter the number?\"))  \n",
    "if num%2 == 0:  \n",
    "    print(\"Number is even\")  "
   ]
  },
  {
   "cell_type": "markdown",
   "metadata": {},
   "source": [
    "#If Else \n",
    "\n",
    "if condition:  \n",
    "    #block of statements   \n",
    "else:   \n",
    "    #another block of statements (else-block)   \n"
   ]
  },
  {
   "cell_type": "code",
   "execution_count": null,
   "metadata": {},
   "outputs": [],
   "source": [
    "num = int (input(\"Enter your Number? \"))  \n",
    "if age%2==0:  \n",
    "    print(\"Number is even !!\");  \n",
    "else:  \n",
    "    print(\"Number is odd !!\");  "
   ]
  },
  {
   "cell_type": "code",
   "execution_count": null,
   "metadata": {},
   "outputs": [],
   "source": [
    "age = int (input(\"Enter your age? \"))  \n",
    "if age>=18:  \n",
    "    print(\"You are eligible to vote !!\");  \n",
    "else:  \n",
    "    print(\"Sorry! you have to wait !!\");  "
   ]
  },
  {
   "cell_type": "markdown",
   "metadata": {},
   "source": [
    "# The elif statement"
   ]
  },
  {
   "cell_type": "markdown",
   "metadata": {},
   "source": [
    "he elif statement enables us to check multiple conditions and execute the specific block of statements depending upon the true condition among them. We can have any number of elif statements in our program depending upon our need. However, using elif is optional. "
   ]
  },
  {
   "cell_type": "markdown",
   "metadata": {},
   "source": [
    "#Syntax\n",
    "f expression 1:   \n",
    "    # block of statements   \n",
    "  \n",
    "elif expression 2:   \n",
    "    # block of statements   \n",
    "  \n",
    "elif expression 3:   \n",
    "    # block of statements   \n",
    "  \n",
    "else:   \n",
    "    # block of statements  "
   ]
  },
  {
   "cell_type": "code",
   "execution_count": null,
   "metadata": {},
   "outputs": [],
   "source": [
    "#let us see some example\n",
    "number = int(input(\"Enter the number?\"))  \n",
    "if number==10:  \n",
    "    print(\"number is equals to 10\")  \n",
    "elif number==50:  \n",
    "    print(\"number is equal to 50\");  \n",
    "elif number==100:  \n",
    "    print(\"number is equal to 100\");  \n",
    "else:  \n",
    "    print(\"number is Non of the above\");  "
   ]
  },
  {
   "cell_type": "code",
   "execution_count": null,
   "metadata": {},
   "outputs": [],
   "source": [
    "#Let consider students marks\n",
    "marks = int(input(\"Enter the marks? \"))  \n",
    "if marks > 85 and marks <= 100:  \n",
    "   print(\"Congrats ! you scored grade A ...\")  \n",
    "elif marks > 60 and marks <= 85:  \n",
    "   print(\"You scored grade B + ...\")  \n",
    "elif marks > 40 and marks <= 60:  \n",
    "   print(\"You scored grade B ...\")  \n",
    "elif (marks > 30 and marks <= 40):  \n",
    "   print(\"You scored grade C ...\")  \n",
    "else:  \n",
    "   print(\"Sorry you are fail ?\")  "
   ]
  },
  {
   "cell_type": "markdown",
   "metadata": {},
   "source": [
    "# Python Loops"
   ]
  },
  {
   "cell_type": "markdown",
   "metadata": {},
   "source": [
    "The programming languages provide various types of loops which are capable of repeating some specific code several numbers of times."
   ]
  },
  {
   "cell_type": "markdown",
   "metadata": {},
   "source": [
    "Advantages of loops \n",
    "There are the following advantages of loops in Python. \n",
    "1.It provides code re-usability.\n",
    "2.Using loops, we do not need to write the same code again and again.\n",
    "3.Using loops, we can traverse over the elements of data structures (array or linked lists)."
   ]
  },
  {
   "cell_type": "code",
   "execution_count": null,
   "metadata": {},
   "outputs": [],
   "source": [
    "#1.for loop\n",
    "#2.while loop\n",
    "#3.do-while loop"
   ]
  },
  {
   "cell_type": "code",
   "execution_count": null,
   "metadata": {},
   "outputs": [],
   "source": [
    "#1.for loop \n",
    "#The for loop is used in the case where we need to execute some part of the code until the given condition is satisfied. "
   ]
  },
  {
   "cell_type": "markdown",
   "metadata": {},
   "source": [
    "#For iterating_var in sequence:  \n",
    "    statement(s)  "
   ]
  },
  {
   "cell_type": "code",
   "execution_count": null,
   "metadata": {},
   "outputs": [],
   "source": [
    "i=1  \n",
    "n=int(input(\"Enter the number up to which you want to print the natural numbers?\"))  \n",
    "for i in range(0,30):  \n",
    "    print(i,end = ' ')  "
   ]
  },
  {
   "cell_type": "code",
   "execution_count": null,
   "metadata": {},
   "outputs": [],
   "source": [
    "for i in range(2,5):  \n",
    "    print(i)  \n",
    "    break;  \n",
    "else:print(\"for loop is exhausted\");  \n",
    "print(\"The loop is broken due to break statement...came out of loop\")  "
   ]
  },
  {
   "cell_type": "code",
   "execution_count": null,
   "metadata": {},
   "outputs": [],
   "source": [
    "#2.while loop\n",
    "#The while loop is to be used in the scenario where we don't know the number of iterations in advance. \n",
    "#The block of statements is executed in the while loop until the condition specified in the while loop is satisfied"
   ]
  },
  {
   "cell_type": "markdown",
   "metadata": {},
   "source": [
    "synatx:\n",
    "    while expression:  \n",
    "    statements  "
   ]
  },
  {
   "cell_type": "code",
   "execution_count": null,
   "metadata": {},
   "outputs": [],
   "source": [
    "#let se the example\n",
    "i=1;  \n",
    "while i<=10:  \n",
    "    print(i);  \n",
    "    i=i+2;"
   ]
  },
  {
   "cell_type": "code",
   "execution_count": null,
   "metadata": {},
   "outputs": [],
   "source": [
    "i=1  \n",
    "number=0  \n",
    "b=9  \n",
    "number = int(input(\"Enter the number?\"))  \n",
    "while i<=10:  \n",
    "    print(\"%d X %d = %d \\n\"%(number,i,number*i));  \n",
    "    i = i+1;  "
   ]
  },
  {
   "cell_type": "code",
   "execution_count": null,
   "metadata": {},
   "outputs": [],
   "source": [
    "#3.do-while loop\n",
    "#The do-while loop continues until a given condition satisfies."
   ]
  },
  {
   "cell_type": "markdown",
   "metadata": {},
   "source": [
    "do {  \n",
    "     //statement  \n",
    "} while (condition);  "
   ]
  },
  {
   "cell_type": "code",
   "execution_count": null,
   "metadata": {},
   "outputs": [],
   "source": [
    "i = 1  \n",
    "  while True:  \n",
    "    print(i)  \n",
    "    i = i + 1  \n",
    "    if(i > 5):  \n",
    "        break  "
   ]
  },
  {
   "cell_type": "code",
   "execution_count": null,
   "metadata": {},
   "outputs": [],
   "source": []
  }
 ],
 "metadata": {
  "kernelspec": {
   "display_name": "Python 3",
   "language": "python",
   "name": "python3"
  },
  "language_info": {
   "codemirror_mode": {
    "name": "ipython",
    "version": 3
   },
   "file_extension": ".py",
   "mimetype": "text/x-python",
   "name": "python",
   "nbconvert_exporter": "python",
   "pygments_lexer": "ipython3",
   "version": "3.7.3"
  }
 },
 "nbformat": 4,
 "nbformat_minor": 2
}
